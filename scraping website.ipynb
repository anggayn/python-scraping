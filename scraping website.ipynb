{
 "cells": [
  {
   "cell_type": "code",
   "execution_count": 3,
   "metadata": {},
   "outputs": [
    {
     "name": "stdout",
     "output_type": "stream",
     "text": [
      "Data judul telah berhasil disimpan ke dalam file CSV.\n"
     ]
    }
   ],
   "source": [
    "import requests\n",
    "from bs4 import BeautifulSoup\n",
    "import csv\n",
    "\n",
    "base_url = \"https://proxyway.com/reviews\"  \n",
    "\n",
    "titles_list = []\n",
    "\n",
    "# Looping untuk mengambil data dari 3 halaman\n",
    "for page in range(1, 4):\n",
    "    url = f\"{base_url}/page/{page}\"\n",
    "\n",
    "    # Mengirim permintaan GET ke URL\n",
    "    response = requests.get(url)\n",
    "\n",
    "    # Membuat objek BeautifulSoup\n",
    "    soup = BeautifulSoup(response.text, \"html.parser\")\n",
    "\n",
    "    # Menemukan semua elemen judul di halaman\n",
    "    titles = soup.find_all(\"h3\", class_=\"archive-list__title\")  # Sesuaikan dengan kelas yang digunakan pada halaman\n",
    "\n",
    "    # Menyimpan data judul ke dalam list\n",
    "    for title in titles:\n",
    "        titles_list.append(title.text)\n",
    "\n",
    "# Menyimpan data ke dalam file CSV\n",
    "filename = \"title.csv\"\n",
    "with open(filename, \"w\", newline=\"\") as csvfile:\n",
    "    writer = csv.writer(csvfile)\n",
    "    writer.writerow([\"Title\"])  # Menulis header kolom\n",
    "    writer.writerows(zip(titles_list))  # Menulis data judul\n",
    "\n",
    "print(\"Data judul telah berhasil disimpan ke dalam file CSV.\")"
   ]
  },
  {
   "cell_type": "code",
   "execution_count": null,
   "metadata": {},
   "outputs": [],
   "source": []
  }
 ],
 "metadata": {
  "kernelspec": {
   "display_name": "Python 3",
   "language": "python",
   "name": "python3"
  },
  "language_info": {
   "codemirror_mode": {
    "name": "ipython",
    "version": 3
   },
   "file_extension": ".py",
   "mimetype": "text/x-python",
   "name": "python",
   "nbconvert_exporter": "python",
   "pygments_lexer": "ipython3",
   "version": "3.8.5"
  }
 },
 "nbformat": 4,
 "nbformat_minor": 4
}
